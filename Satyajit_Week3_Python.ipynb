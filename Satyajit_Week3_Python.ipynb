{
  "nbformat": 4,
  "nbformat_minor": 0,
  "metadata": {
    "colab": {
      "provenance": [],
      "authorship_tag": "ABX9TyNBSQp4B5zJnxU6GRN9jB4c",
      "include_colab_link": true
    },
    "kernelspec": {
      "name": "python3",
      "display_name": "Python 3"
    },
    "language_info": {
      "name": "python"
    }
  },
  "cells": [
    {
      "cell_type": "markdown",
      "metadata": {
        "id": "view-in-github",
        "colab_type": "text"
      },
      "source": [
        "<a href=\"https://colab.research.google.com/github/msatya7045/week4_python/blob/main/Satyajit_Week3_Python.ipynb\" target=\"_parent\"><img src=\"https://colab.research.google.com/assets/colab-badge.svg\" alt=\"Open In Colab\"/></a>"
      ]
    },
    {
      "cell_type": "markdown",
      "source": [
        "\n",
        "\n",
        "1) Write a Python script to generate and print a dictionary that contains a number (between 1 and n) in the form (x, x*x).\n",
        "\n",
        "Sample Dictionary ( n = 5) :\n",
        "\n",
        "Expected Output : {1: 1, 2: 4, 3: 9, 4: 16, 5: 25}\n",
        "\n",
        "\n",
        "\n",
        "2) Write a Python script to print a dictionary where the keys are numbers between 1 and 15 (both included) and the values are the square of the keys.\n",
        "\n",
        "Sample Dictionary\n",
        "\n",
        "{1: 1, 2: 4, 3: 9, 4: 16, 5: 25, 6: 36, 7: 49, 8: 64, 9: 81, 10: 100, 11: 121, 12: 144, 13: 169, 14: 196, 15: 225}\n",
        "\n",
        "\n",
        "\n",
        "3) Write a Python program to get the 4th element from the last element of a tuple\n",
        "\n",
        "\n",
        "\n",
        "4) Write a Python program to check whether an element exists within a tuple\n",
        "\n",
        "\n",
        "\n",
        "5) Write a Python program to find the most common elements and their counts in a specified text.\n",
        "\n",
        "Original string: lkseropewdssafsdfafkpwe\n",
        "\n",
        "Most common three characters of the said string:\n",
        "\n",
        "[('s', 4), ('e', 3), ('f', 3)]\n",
        "\n",
        "\n",
        "\n",
        "\n",
        "6) Write a couple of meaningful lambda functions on your own"
      ],
      "metadata": {
        "id": "ztl0_vMY4EIM"
      }
    },
    {
      "cell_type": "code",
      "source": [
        "\"\"\"Write a Python script to generate and print a dictionary that contains a number (between 1 and n) in the form (x, x*x).\n",
        "\n",
        "Sample Dictionary ( n = 5) :\n",
        "\n",
        "Expected Output : {1: 1, 2: 4, 3: 9, 4: 16, 5: 25}\"\"\"\n",
        "\n",
        "n= int(input())\n",
        "\n",
        "a=[]\n",
        "b=[]\n",
        "\n",
        "\n",
        "for i in range(1,n+1):\n",
        "  a.append(i)\n",
        "  b.append(i**2)\n",
        "dict_a_b = dict(zip(a,b))\n",
        "print(dict_a_b)\n"
      ],
      "metadata": {
        "colab": {
          "base_uri": "https://localhost:8080/"
        },
        "id": "OUo8W9zS4cZu",
        "outputId": "e71d381e-0da4-442e-fe04-4428d676a11f"
      },
      "execution_count": null,
      "outputs": [
        {
          "output_type": "stream",
          "name": "stdout",
          "text": [
            "5\n",
            "{1: 1, 2: 4, 3: 9, 4: 16, 5: 25}\n"
          ]
        }
      ]
    },
    {
      "cell_type": "code",
      "source": [
        "\"\"\"2) Write a Python script to print a dictionary where the keys are numbers between 1 and 15 (both included) and the values are the square of the keys.\n",
        "\n",
        "Sample Dictionary\n",
        "\n",
        "{1: 1, 2: 4, 3: 9, 4: 16, 5: 25, 6: 36, 7: 49, 8: 64, 9: 81, 10: 100, 11: 121, 12: 144, 13: 169, 14: 196, 15: 225}\"\"\"\n",
        "\n",
        "a=[]\n",
        "b=[]\n",
        "\n",
        "\n",
        "for i in range(1,16):\n",
        "  a.append(i)\n",
        "  b.append(i**2)\n",
        "dict_a_b = dict(zip(a,b))\n",
        "print(dict_a_b)\n",
        "\n",
        "\n",
        "\n"
      ],
      "metadata": {
        "colab": {
          "base_uri": "https://localhost:8080/"
        },
        "id": "twmqx9hW6Q4W",
        "outputId": "4133336d-76fd-4b9f-becf-82afef5bd75b"
      },
      "execution_count": null,
      "outputs": [
        {
          "output_type": "stream",
          "name": "stdout",
          "text": [
            "{1: 1, 2: 4, 3: 9, 4: 16, 5: 25, 6: 36, 7: 49, 8: 64, 9: 81, 10: 100, 11: 121, 12: 144, 13: 169, 14: 196, 15: 225}\n"
          ]
        }
      ]
    },
    {
      "cell_type": "code",
      "source": [
        "#3) Write a Python program to get the 4th element from the last element of a tuple\n",
        "\n",
        "\n",
        "a_tuple = ('a','b',3,2,4,'satya',4,'mohanty',3)\n",
        "a_tuple[-4]"
      ],
      "metadata": {
        "colab": {
          "base_uri": "https://localhost:8080/",
          "height": 35
        },
        "id": "6wr7N4L-5n24",
        "outputId": "9cecd8b5-bfbe-4820-bb67-045b1f21d4e1"
      },
      "execution_count": null,
      "outputs": [
        {
          "output_type": "execute_result",
          "data": {
            "text/plain": [
              "'satya'"
            ],
            "application/vnd.google.colaboratory.intrinsic+json": {
              "type": "string"
            }
          },
          "metadata": {},
          "execution_count": 15
        }
      ]
    },
    {
      "cell_type": "code",
      "source": [
        "#4) Write a Python program to check whether an element exists within a tuple\n",
        "\n",
        "\n",
        "input_value = input('input elements with comma separated :')\n",
        "\n",
        "search_element = input('Input the element which you want to search :')\n",
        "\n",
        "#converting the input value to list\n",
        "input_list = list(input_value.split(\",\"))\n",
        "\n",
        "#converting list to tuple\n",
        "input_tuple= tuple(input_list)\n",
        "\n",
        "if search_element in input_tuple:\n",
        "  print(\"The element :\",search_element, 'is exist in the tuple' )\n",
        "else:\n",
        "  print(\"The element :\",search_element, 'is not exist in the tuple' )\n",
        "\n",
        "\n",
        "\n"
      ],
      "metadata": {
        "colab": {
          "base_uri": "https://localhost:8080/"
        },
        "id": "oExyhnnH8FuR",
        "outputId": "66d96d76-261e-4d2b-df7b-df3ee9352ae9"
      },
      "execution_count": null,
      "outputs": [
        {
          "output_type": "stream",
          "name": "stdout",
          "text": [
            "input elements with comma separated :2,3,4,5,7,8,99\n",
            "Input the element which you want to search :99\n",
            "The element : 99 is exist in the tuple\n"
          ]
        }
      ]
    },
    {
      "cell_type": "code",
      "source": [
        "\"\"\"5) Write a Python program to find the most common elements and their counts in a specified text.\n",
        "\n",
        "Original string: lkseropewdssafsdfafkpwe\n",
        "\n",
        "Most common three characters of the said string:\n",
        "\n",
        "[('s', 4), ('e', 3), ('f', 3)]\"\"\"\n",
        "\n",
        "\n",
        "input = 'kseropewdssafsdfafkpwe'\n",
        "a=list(input)\n",
        "b=[]\n",
        "\n",
        "\n",
        "for i in a:\n",
        "  count= a.count(i)\n",
        "  b.append(count)\n",
        "len(b)\n",
        "len(a)\n",
        "dict_a_b = dict(zip(a,b))\n",
        "print(a)\n",
        "print(b)\n",
        "print(dict_a_b)\n",
        "h= sorted(dict_a_b.items(),key=lambda x:x[1])\n",
        "print(h)\n",
        "final_output= h[-3:]\n",
        "print(final_output)\n",
        "\n",
        "\n",
        "\n",
        "\n",
        "\n",
        "\n",
        "\n",
        "\n"
      ],
      "metadata": {
        "colab": {
          "base_uri": "https://localhost:8080/"
        },
        "id": "60Nh7tVo7WzE",
        "outputId": "eeec9322-b38a-4ec3-95e3-fa6ea46a6ec1"
      },
      "execution_count": null,
      "outputs": [
        {
          "output_type": "stream",
          "name": "stdout",
          "text": [
            "['k', 's', 'e', 'r', 'o', 'p', 'e', 'w', 'd', 's', 's', 'a', 'f', 's', 'd', 'f', 'a', 'f', 'k', 'p', 'w', 'e']\n",
            "[2, 4, 3, 1, 1, 2, 3, 2, 2, 4, 4, 2, 3, 4, 2, 3, 2, 3, 2, 2, 2, 3]\n",
            "{'k': 2, 's': 4, 'e': 3, 'r': 1, 'o': 1, 'p': 2, 'w': 2, 'd': 2, 'a': 2, 'f': 3}\n",
            "[('r', 1), ('o', 1), ('k', 2), ('p', 2), ('w', 2), ('d', 2), ('a', 2), ('e', 3), ('f', 3), ('s', 4)]\n",
            "[('e', 3), ('f', 3), ('s', 4)]\n"
          ]
        }
      ]
    },
    {
      "cell_type": "code",
      "source": [],
      "metadata": {
        "id": "QLQawlXp8lHZ"
      },
      "execution_count": 100,
      "outputs": []
    },
    {
      "cell_type": "code",
      "source": [],
      "metadata": {
        "id": "Ef2X_sdMKoQ6"
      },
      "execution_count": 100,
      "outputs": []
    },
    {
      "cell_type": "code",
      "source": [],
      "metadata": {
        "id": "8YqMqUFULaoX"
      },
      "execution_count": null,
      "outputs": []
    }
  ]
}