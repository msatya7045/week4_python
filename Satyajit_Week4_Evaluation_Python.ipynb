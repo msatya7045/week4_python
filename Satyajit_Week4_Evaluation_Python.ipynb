{
  "nbformat": 4,
  "nbformat_minor": 0,
  "metadata": {
    "colab": {
      "provenance": [],
      "authorship_tag": "ABX9TyNmOH97UflDRHkxHNpU+JyB",
      "include_colab_link": true
    },
    "kernelspec": {
      "name": "python3",
      "display_name": "Python 3"
    },
    "language_info": {
      "name": "python"
    }
  },
  "cells": [
    {
      "cell_type": "markdown",
      "metadata": {
        "id": "view-in-github",
        "colab_type": "text"
      },
      "source": [
        "<a href=\"https://colab.research.google.com/github/msatya7045/week4_python/blob/main/Satyajit_Week4_Evaluation_Python.ipynb\" target=\"_parent\"><img src=\"https://colab.research.google.com/assets/colab-badge.svg\" alt=\"Open In Colab\"/></a>"
      ]
    },
    {
      "cell_type": "markdown",
      "source": [
        "**1. Display Powers of 2 Using Anonymous Function**\n",
        "\n",
        "**2. Find Factorial of Number Using Recursion**\n",
        "\n",
        "**3. Add Two Matrices**\n",
        "\n",
        "**4. print the second largest element in an array**\n",
        "\n",
        "**5. sort the elements of an array in descending order**\n",
        "\n",
        "**6. Counts the Number of Times a Letter Appears in the Text File**\n",
        "\n",
        "**7. Extract Numbers from Text File**"
      ],
      "metadata": {
        "id": "0aCYhOxXtsgt"
      }
    },
    {
      "cell_type": "code",
      "source": [
        "#1. Display Powers of 2 Using Anonymous\n",
        "input_number = int(input('input number :'))\n",
        "power = lambda a: a*a\n",
        "power(input_number)"
      ],
      "metadata": {
        "colab": {
          "base_uri": "https://localhost:8080/"
        },
        "id": "XdYLcd2kuFzR",
        "outputId": "c985223c-4531-492f-c575-38b46a661cfa"
      },
      "execution_count": 161,
      "outputs": [
        {
          "name": "stdout",
          "output_type": "stream",
          "text": [
            "input number :2\n"
          ]
        },
        {
          "output_type": "execute_result",
          "data": {
            "text/plain": [
              "4"
            ]
          },
          "metadata": {},
          "execution_count": 161
        }
      ]
    },
    {
      "cell_type": "code",
      "source": [
        "#2. Find Factorial of Number Using Recursion\n",
        "\n",
        "\n",
        "number= int(input('Input number :'))\n",
        "\n",
        "if number>0:\n",
        "\n",
        "  fact = 1\n",
        "\n",
        "  for i in range(1,number+1):\n",
        "    fact = fact * i\n",
        "  print('factorial of',number,\"is\",fact)\n",
        "elif number == 0:\n",
        "  fact = 1\n",
        "  print('factorial of',number,\"is\",fact)\n",
        "else:\n",
        "  print(\"factorial can't defind\")\n",
        "\n"
      ],
      "metadata": {
        "colab": {
          "base_uri": "https://localhost:8080/"
        },
        "id": "JmnbTaLSxNUB",
        "outputId": "ec643e9e-5dd0-494a-f71c-f2f59c64bf80"
      },
      "execution_count": 162,
      "outputs": [
        {
          "output_type": "stream",
          "name": "stdout",
          "text": [
            "Input number :5\n",
            "factorial of 5 is 120\n"
          ]
        }
      ]
    },
    {
      "cell_type": "code",
      "source": [
        "\n",
        "def fact_of_number(number):\n",
        "\n",
        "  if number>0:\n",
        "\n",
        "    fact = 1\n",
        "\n",
        "    for i in range(1,number+1):\n",
        "      fact = fact * i\n",
        "    return ('factorial of',number,\"is\",fact)\n",
        "  elif number == 0:\n",
        "    fact = 1\n",
        "    return ('factorial of',number,\"is\",fact)\n",
        "  else:\n",
        "    return (\"factorial can't defind\")"
      ],
      "metadata": {
        "id": "hNcLflYkx_fE"
      },
      "execution_count": 163,
      "outputs": []
    },
    {
      "cell_type": "code",
      "source": [
        "fact_of_number(-1)"
      ],
      "metadata": {
        "colab": {
          "base_uri": "https://localhost:8080/",
          "height": 35
        },
        "id": "3EpebNJe1anJ",
        "outputId": "339e2dbd-91f2-4647-8a2c-c3f9f980b6d1"
      },
      "execution_count": 164,
      "outputs": [
        {
          "output_type": "execute_result",
          "data": {
            "text/plain": [
              "\"factorial can't defind\""
            ],
            "application/vnd.google.colaboratory.intrinsic+json": {
              "type": "string"
            }
          },
          "metadata": {},
          "execution_count": 164
        }
      ]
    },
    {
      "cell_type": "code",
      "source": [
        "#factorial using recurssion\n",
        "\n",
        "def fact_recurssion(number):\n",
        "  if number==1:\n",
        "    return number\n",
        "  elif number<0:\n",
        "    return 'number is -ve factorial can nt defined'\n",
        "  elif number==0:\n",
        "    return 1\n",
        "  else:\n",
        "    return number * fact_recurssion(number-1)\n"
      ],
      "metadata": {
        "id": "jptlkpmF8XN0"
      },
      "execution_count": 165,
      "outputs": []
    },
    {
      "cell_type": "code",
      "source": [
        "fact_recurssion(0)"
      ],
      "metadata": {
        "colab": {
          "base_uri": "https://localhost:8080/"
        },
        "id": "nEfyqkuK8nR_",
        "outputId": "7c22b5b3-1edf-47f2-e252-ad2ec0cc9a40"
      },
      "execution_count": 166,
      "outputs": [
        {
          "output_type": "execute_result",
          "data": {
            "text/plain": [
              "1"
            ]
          },
          "metadata": {},
          "execution_count": 166
        }
      ]
    },
    {
      "cell_type": "code",
      "source": [
        "#3. Add Two Matrices\n",
        "\n",
        "import numpy as np\n",
        "\n",
        "\n",
        "a = np.random.randint(10, size=(3, 3))\n",
        "b= np.random.randint(10, size=(3, 3))\n",
        "print(a)\n",
        "print(b)\n",
        "\n",
        "\n",
        "addition_of_ab = a+b\n",
        "addition_of_ab\n",
        "\n",
        "\n",
        "\n",
        "\n",
        "\n"
      ],
      "metadata": {
        "colab": {
          "base_uri": "https://localhost:8080/"
        },
        "id": "TQlmO4DT9eun",
        "outputId": "a6736400-e4d3-409f-e351-d7f64a9c6671"
      },
      "execution_count": 167,
      "outputs": [
        {
          "output_type": "stream",
          "name": "stdout",
          "text": [
            "[[1 2 1]\n",
            " [9 7 7]\n",
            " [5 1 5]]\n",
            "[[7 2 3]\n",
            " [0 2 7]\n",
            " [3 2 5]]\n"
          ]
        },
        {
          "output_type": "execute_result",
          "data": {
            "text/plain": [
              "array([[ 8,  4,  4],\n",
              "       [ 9,  9, 14],\n",
              "       [ 8,  3, 10]])"
            ]
          },
          "metadata": {},
          "execution_count": 167
        }
      ]
    },
    {
      "cell_type": "code",
      "source": [
        "#4. print the second largest element in an array\n",
        "\n",
        "a = [1,2,3,4,4,5,40,30,10]\n",
        "b= np.array(a)\n",
        "sorted_b = sorted(b)\n",
        "secound_largest = sorted_b[-2]\n",
        "secound_largest"
      ],
      "metadata": {
        "colab": {
          "base_uri": "https://localhost:8080/"
        },
        "id": "IuS2M2AqS-I2",
        "outputId": "8a60d64f-6235-41dd-d5f4-680478ae4479"
      },
      "execution_count": 168,
      "outputs": [
        {
          "output_type": "execute_result",
          "data": {
            "text/plain": [
              "30"
            ]
          },
          "metadata": {},
          "execution_count": 168
        }
      ]
    },
    {
      "cell_type": "code",
      "source": [
        "#5. sort the elements of an array in descending order\n",
        "a = [1,2,3,4,4,5,40,30,10]\n",
        "b= np.array(a)\n",
        "\n",
        "sorted_b = sorted(b,reverse = True)\n",
        "sorted_b\n",
        "\n"
      ],
      "metadata": {
        "colab": {
          "base_uri": "https://localhost:8080/"
        },
        "id": "2Rp3NN6iTvhs",
        "outputId": "eeb269a8-c72d-42f3-eada-bf0d77169c1a"
      },
      "execution_count": 169,
      "outputs": [
        {
          "output_type": "execute_result",
          "data": {
            "text/plain": [
              "[40, 30, 10, 5, 4, 4, 3, 2, 1]"
            ]
          },
          "metadata": {},
          "execution_count": 169
        }
      ]
    },
    {
      "cell_type": "markdown",
      "source": [
        "\n",
        "**6. Counts the Number of Times a Letter Appears in the Text File**"
      ],
      "metadata": {
        "id": "L9DN6vZvPrD8"
      }
    },
    {
      "cell_type": "code",
      "source": [
        "a = open('random_text.txt')"
      ],
      "metadata": {
        "id": "6g4lYvX9FnES"
      },
      "execution_count": 170,
      "outputs": []
    },
    {
      "cell_type": "code",
      "source": [
        "data = a.read()\n",
        "data"
      ],
      "metadata": {
        "colab": {
          "base_uri": "https://localhost:8080/",
          "height": 140
        },
        "id": "v4CgbLrjKYic",
        "outputId": "c1ef7e70-2299-4079-ae14-e509044e3163"
      },
      "execution_count": 171,
      "outputs": [
        {
          "output_type": "execute_result",
          "data": {
            "text/plain": [
              "\"Last weekend, we decided to explore the picturesque park nearby. The park's lush beauty immediately captivated us with its tall, majestic trees and vibrant green grass. Excitement filled the air as we embarked on our leisurely stroll along the winding pathways, eager to uncover the park's hidden treasures.\\n\\nAs we meandered, we spotted adorable squirrels frolicking playfully among the branches, their bushy tails adding to the charm of the scene. Mesmerized, we paused to admire their antics, cherishing the tranquility of the moment.\\n\\nSeeking respite, we settled on a weathered wooden bench beneath the shade of a sprawling oak. A gentle breeze rustled the leaves, soothing us while we immersed ourselves in the peaceful ambiance. Nature's embrace was refreshing, rejuvenating our spirits.\\n\\nSoon, our journey resumed, and we encountered a cheerful group of kids engaged in a lively game of frisbee. Their laughter filled the air with infectious joy, and we couldn't help but smile at their carefree play.\\n\\nThe day in the park proved to be an enchanting escape from the hustle and bustle of daily life. The simple pleasures of nature and camaraderie left lasting impressions on our hearts. As the sun dipped below the horizon, we bid farewell to the park, promising to return soon to relish its beauty and serenity once more.\\n\\n\\n\\n\\n\\n\\n\""
            ],
            "application/vnd.google.colaboratory.intrinsic+json": {
              "type": "string"
            }
          },
          "metadata": {},
          "execution_count": 171
        }
      ]
    },
    {
      "cell_type": "code",
      "source": [
        "list_text = data.replace('\\n',\" \")\n",
        "\n",
        "list_text2= list_text.split(\" \")\n",
        "\n"
      ],
      "metadata": {
        "id": "mMvtiHnNKXyW"
      },
      "execution_count": 172,
      "outputs": []
    },
    {
      "cell_type": "code",
      "source": [
        "print(list_text2)\n"
      ],
      "metadata": {
        "colab": {
          "base_uri": "https://localhost:8080/"
        },
        "id": "IriHN0DbLM0T",
        "outputId": "2afe8178-b295-4559-e570-ec32834c4d00"
      },
      "execution_count": 173,
      "outputs": [
        {
          "output_type": "stream",
          "name": "stdout",
          "text": [
            "['Last', 'weekend,', 'we', 'decided', 'to', 'explore', 'the', 'picturesque', 'park', 'nearby.', 'The', \"park's\", 'lush', 'beauty', 'immediately', 'captivated', 'us', 'with', 'its', 'tall,', 'majestic', 'trees', 'and', 'vibrant', 'green', 'grass.', 'Excitement', 'filled', 'the', 'air', 'as', 'we', 'embarked', 'on', 'our', 'leisurely', 'stroll', 'along', 'the', 'winding', 'pathways,', 'eager', 'to', 'uncover', 'the', \"park's\", 'hidden', 'treasures.', '', 'As', 'we', 'meandered,', 'we', 'spotted', 'adorable', 'squirrels', 'frolicking', 'playfully', 'among', 'the', 'branches,', 'their', 'bushy', 'tails', 'adding', 'to', 'the', 'charm', 'of', 'the', 'scene.', 'Mesmerized,', 'we', 'paused', 'to', 'admire', 'their', 'antics,', 'cherishing', 'the', 'tranquility', 'of', 'the', 'moment.', '', 'Seeking', 'respite,', 'we', 'settled', 'on', 'a', 'weathered', 'wooden', 'bench', 'beneath', 'the', 'shade', 'of', 'a', 'sprawling', 'oak.', 'A', 'gentle', 'breeze', 'rustled', 'the', 'leaves,', 'soothing', 'us', 'while', 'we', 'immersed', 'ourselves', 'in', 'the', 'peaceful', 'ambiance.', \"Nature's\", 'embrace', 'was', 'refreshing,', 'rejuvenating', 'our', 'spirits.', '', 'Soon,', 'our', 'journey', 'resumed,', 'and', 'we', 'encountered', 'a', 'cheerful', 'group', 'of', 'kids', 'engaged', 'in', 'a', 'lively', 'game', 'of', 'frisbee.', 'Their', 'laughter', 'filled', 'the', 'air', 'with', 'infectious', 'joy,', 'and', 'we', \"couldn't\", 'help', 'but', 'smile', 'at', 'their', 'carefree', 'play.', '', 'The', 'day', 'in', 'the', 'park', 'proved', 'to', 'be', 'an', 'enchanting', 'escape', 'from', 'the', 'hustle', 'and', 'bustle', 'of', 'daily', 'life.', 'The', 'simple', 'pleasures', 'of', 'nature', 'and', 'camaraderie', 'left', 'lasting', 'impressions', 'on', 'our', 'hearts.', 'As', 'the', 'sun', 'dipped', 'below', 'the', 'horizon,', 'we', 'bid', 'farewell', 'to', 'the', 'park,', 'promising', 'to', 'return', 'soon', 'to', 'relish', 'its', 'beauty', 'and', 'serenity', 'once', 'more.', '', '', '', '', '', '', '']\n"
          ]
        }
      ]
    },
    {
      "cell_type": "code",
      "source": [
        "list_text2.count('the')"
      ],
      "metadata": {
        "colab": {
          "base_uri": "https://localhost:8080/"
        },
        "id": "G4JXMz7_NfcF",
        "outputId": "90454a13-4990-4c64-fef8-24ca3912a552"
      },
      "execution_count": 174,
      "outputs": [
        {
          "output_type": "execute_result",
          "data": {
            "text/plain": [
              "18"
            ]
          },
          "metadata": {},
          "execution_count": 174
        }
      ]
    },
    {
      "cell_type": "code",
      "source": [
        "count =[]\n",
        "for i in list_text2:\n",
        "  a = list_text2.count(i)\n",
        "  count.append(a)\n",
        "\n",
        "print(count)"
      ],
      "metadata": {
        "colab": {
          "base_uri": "https://localhost:8080/"
        },
        "id": "lClXcAnaODI4",
        "outputId": "188df4b6-d51a-4187-e985-60e63c21b910"
      },
      "execution_count": 175,
      "outputs": [
        {
          "output_type": "stream",
          "name": "stdout",
          "text": [
            "[1, 1, 10, 1, 8, 1, 18, 1, 2, 1, 3, 2, 1, 2, 1, 1, 2, 2, 2, 1, 1, 1, 6, 1, 1, 1, 1, 2, 18, 2, 1, 10, 1, 3, 4, 1, 1, 1, 18, 1, 1, 1, 8, 1, 18, 2, 1, 1, 11, 2, 10, 1, 10, 1, 1, 1, 1, 1, 1, 18, 1, 3, 1, 1, 1, 8, 18, 1, 7, 18, 1, 1, 10, 1, 8, 1, 3, 1, 1, 18, 1, 7, 18, 1, 11, 1, 1, 10, 1, 3, 4, 1, 1, 1, 1, 18, 1, 7, 4, 1, 1, 1, 1, 1, 1, 18, 1, 1, 2, 1, 10, 1, 1, 3, 18, 1, 1, 1, 1, 1, 1, 1, 4, 1, 11, 1, 4, 1, 1, 6, 10, 1, 4, 1, 1, 7, 1, 1, 3, 4, 1, 1, 7, 1, 1, 1, 2, 18, 2, 2, 1, 1, 6, 10, 1, 1, 1, 1, 1, 3, 1, 1, 11, 3, 1, 3, 18, 2, 1, 8, 1, 1, 1, 1, 1, 18, 1, 6, 1, 7, 1, 1, 3, 1, 1, 7, 1, 6, 1, 1, 1, 1, 3, 4, 1, 2, 18, 1, 1, 1, 18, 1, 10, 1, 1, 8, 18, 1, 1, 8, 1, 1, 8, 1, 2, 2, 6, 1, 1, 1, 11, 11, 11, 11, 11, 11, 11]\n"
          ]
        }
      ]
    },
    {
      "cell_type": "code",
      "source": [
        "dict_1 = dict(zip(list_text2,count))\n",
        "print(dict_1)"
      ],
      "metadata": {
        "colab": {
          "base_uri": "https://localhost:8080/"
        },
        "id": "0haY1UaOOiYo",
        "outputId": "3dd984d3-9195-47c1-eea1-e3f750c42c6a"
      },
      "execution_count": 176,
      "outputs": [
        {
          "output_type": "stream",
          "name": "stdout",
          "text": [
            "{'Last': 1, 'weekend,': 1, 'we': 10, 'decided': 1, 'to': 8, 'explore': 1, 'the': 18, 'picturesque': 1, 'park': 2, 'nearby.': 1, 'The': 3, \"park's\": 2, 'lush': 1, 'beauty': 2, 'immediately': 1, 'captivated': 1, 'us': 2, 'with': 2, 'its': 2, 'tall,': 1, 'majestic': 1, 'trees': 1, 'and': 6, 'vibrant': 1, 'green': 1, 'grass.': 1, 'Excitement': 1, 'filled': 2, 'air': 2, 'as': 1, 'embarked': 1, 'on': 3, 'our': 4, 'leisurely': 1, 'stroll': 1, 'along': 1, 'winding': 1, 'pathways,': 1, 'eager': 1, 'uncover': 1, 'hidden': 1, 'treasures.': 1, '': 11, 'As': 2, 'meandered,': 1, 'spotted': 1, 'adorable': 1, 'squirrels': 1, 'frolicking': 1, 'playfully': 1, 'among': 1, 'branches,': 1, 'their': 3, 'bushy': 1, 'tails': 1, 'adding': 1, 'charm': 1, 'of': 7, 'scene.': 1, 'Mesmerized,': 1, 'paused': 1, 'admire': 1, 'antics,': 1, 'cherishing': 1, 'tranquility': 1, 'moment.': 1, 'Seeking': 1, 'respite,': 1, 'settled': 1, 'a': 4, 'weathered': 1, 'wooden': 1, 'bench': 1, 'beneath': 1, 'shade': 1, 'sprawling': 1, 'oak.': 1, 'A': 1, 'gentle': 1, 'breeze': 1, 'rustled': 1, 'leaves,': 1, 'soothing': 1, 'while': 1, 'immersed': 1, 'ourselves': 1, 'in': 3, 'peaceful': 1, 'ambiance.': 1, \"Nature's\": 1, 'embrace': 1, 'was': 1, 'refreshing,': 1, 'rejuvenating': 1, 'spirits.': 1, 'Soon,': 1, 'journey': 1, 'resumed,': 1, 'encountered': 1, 'cheerful': 1, 'group': 1, 'kids': 1, 'engaged': 1, 'lively': 1, 'game': 1, 'frisbee.': 1, 'Their': 1, 'laughter': 1, 'infectious': 1, 'joy,': 1, \"couldn't\": 1, 'help': 1, 'but': 1, 'smile': 1, 'at': 1, 'carefree': 1, 'play.': 1, 'day': 1, 'proved': 1, 'be': 1, 'an': 1, 'enchanting': 1, 'escape': 1, 'from': 1, 'hustle': 1, 'bustle': 1, 'daily': 1, 'life.': 1, 'simple': 1, 'pleasures': 1, 'nature': 1, 'camaraderie': 1, 'left': 1, 'lasting': 1, 'impressions': 1, 'hearts.': 1, 'sun': 1, 'dipped': 1, 'below': 1, 'horizon,': 1, 'bid': 1, 'farewell': 1, 'park,': 1, 'promising': 1, 'return': 1, 'soon': 1, 'relish': 1, 'serenity': 1, 'once': 1, 'more.': 1}\n"
          ]
        }
      ]
    },
    {
      "cell_type": "code",
      "source": [
        "sorted_dict = sorted(dict_1.items(),key=lambda x:x[1])\n",
        "print(sorted_dict)"
      ],
      "metadata": {
        "colab": {
          "base_uri": "https://localhost:8080/"
        },
        "id": "JJw_wNliOram",
        "outputId": "1d618aba-22e4-4193-880a-7bd49b36405c"
      },
      "execution_count": 177,
      "outputs": [
        {
          "output_type": "stream",
          "name": "stdout",
          "text": [
            "[('Last', 1), ('weekend,', 1), ('decided', 1), ('explore', 1), ('picturesque', 1), ('nearby.', 1), ('lush', 1), ('immediately', 1), ('captivated', 1), ('tall,', 1), ('majestic', 1), ('trees', 1), ('vibrant', 1), ('green', 1), ('grass.', 1), ('Excitement', 1), ('as', 1), ('embarked', 1), ('leisurely', 1), ('stroll', 1), ('along', 1), ('winding', 1), ('pathways,', 1), ('eager', 1), ('uncover', 1), ('hidden', 1), ('treasures.', 1), ('meandered,', 1), ('spotted', 1), ('adorable', 1), ('squirrels', 1), ('frolicking', 1), ('playfully', 1), ('among', 1), ('branches,', 1), ('bushy', 1), ('tails', 1), ('adding', 1), ('charm', 1), ('scene.', 1), ('Mesmerized,', 1), ('paused', 1), ('admire', 1), ('antics,', 1), ('cherishing', 1), ('tranquility', 1), ('moment.', 1), ('Seeking', 1), ('respite,', 1), ('settled', 1), ('weathered', 1), ('wooden', 1), ('bench', 1), ('beneath', 1), ('shade', 1), ('sprawling', 1), ('oak.', 1), ('A', 1), ('gentle', 1), ('breeze', 1), ('rustled', 1), ('leaves,', 1), ('soothing', 1), ('while', 1), ('immersed', 1), ('ourselves', 1), ('peaceful', 1), ('ambiance.', 1), (\"Nature's\", 1), ('embrace', 1), ('was', 1), ('refreshing,', 1), ('rejuvenating', 1), ('spirits.', 1), ('Soon,', 1), ('journey', 1), ('resumed,', 1), ('encountered', 1), ('cheerful', 1), ('group', 1), ('kids', 1), ('engaged', 1), ('lively', 1), ('game', 1), ('frisbee.', 1), ('Their', 1), ('laughter', 1), ('infectious', 1), ('joy,', 1), (\"couldn't\", 1), ('help', 1), ('but', 1), ('smile', 1), ('at', 1), ('carefree', 1), ('play.', 1), ('day', 1), ('proved', 1), ('be', 1), ('an', 1), ('enchanting', 1), ('escape', 1), ('from', 1), ('hustle', 1), ('bustle', 1), ('daily', 1), ('life.', 1), ('simple', 1), ('pleasures', 1), ('nature', 1), ('camaraderie', 1), ('left', 1), ('lasting', 1), ('impressions', 1), ('hearts.', 1), ('sun', 1), ('dipped', 1), ('below', 1), ('horizon,', 1), ('bid', 1), ('farewell', 1), ('park,', 1), ('promising', 1), ('return', 1), ('soon', 1), ('relish', 1), ('serenity', 1), ('once', 1), ('more.', 1), ('park', 2), (\"park's\", 2), ('beauty', 2), ('us', 2), ('with', 2), ('its', 2), ('filled', 2), ('air', 2), ('As', 2), ('The', 3), ('on', 3), ('their', 3), ('in', 3), ('our', 4), ('a', 4), ('and', 6), ('of', 7), ('to', 8), ('we', 10), ('', 11), ('the', 18)]\n"
          ]
        }
      ]
    },
    {
      "cell_type": "code",
      "source": [
        "sorted_dict2= sorted_dict[::-1]\n",
        "print(sorted_dict2)"
      ],
      "metadata": {
        "colab": {
          "base_uri": "https://localhost:8080/"
        },
        "id": "Ev_hO4vTPCw5",
        "outputId": "5c539989-f0fa-43de-e6de-27b4cb6a32aa"
      },
      "execution_count": 178,
      "outputs": [
        {
          "output_type": "stream",
          "name": "stdout",
          "text": [
            "[('the', 18), ('', 11), ('we', 10), ('to', 8), ('of', 7), ('and', 6), ('a', 4), ('our', 4), ('in', 3), ('their', 3), ('on', 3), ('The', 3), ('As', 2), ('air', 2), ('filled', 2), ('its', 2), ('with', 2), ('us', 2), ('beauty', 2), (\"park's\", 2), ('park', 2), ('more.', 1), ('once', 1), ('serenity', 1), ('relish', 1), ('soon', 1), ('return', 1), ('promising', 1), ('park,', 1), ('farewell', 1), ('bid', 1), ('horizon,', 1), ('below', 1), ('dipped', 1), ('sun', 1), ('hearts.', 1), ('impressions', 1), ('lasting', 1), ('left', 1), ('camaraderie', 1), ('nature', 1), ('pleasures', 1), ('simple', 1), ('life.', 1), ('daily', 1), ('bustle', 1), ('hustle', 1), ('from', 1), ('escape', 1), ('enchanting', 1), ('an', 1), ('be', 1), ('proved', 1), ('day', 1), ('play.', 1), ('carefree', 1), ('at', 1), ('smile', 1), ('but', 1), ('help', 1), (\"couldn't\", 1), ('joy,', 1), ('infectious', 1), ('laughter', 1), ('Their', 1), ('frisbee.', 1), ('game', 1), ('lively', 1), ('engaged', 1), ('kids', 1), ('group', 1), ('cheerful', 1), ('encountered', 1), ('resumed,', 1), ('journey', 1), ('Soon,', 1), ('spirits.', 1), ('rejuvenating', 1), ('refreshing,', 1), ('was', 1), ('embrace', 1), (\"Nature's\", 1), ('ambiance.', 1), ('peaceful', 1), ('ourselves', 1), ('immersed', 1), ('while', 1), ('soothing', 1), ('leaves,', 1), ('rustled', 1), ('breeze', 1), ('gentle', 1), ('A', 1), ('oak.', 1), ('sprawling', 1), ('shade', 1), ('beneath', 1), ('bench', 1), ('wooden', 1), ('weathered', 1), ('settled', 1), ('respite,', 1), ('Seeking', 1), ('moment.', 1), ('tranquility', 1), ('cherishing', 1), ('antics,', 1), ('admire', 1), ('paused', 1), ('Mesmerized,', 1), ('scene.', 1), ('charm', 1), ('adding', 1), ('tails', 1), ('bushy', 1), ('branches,', 1), ('among', 1), ('playfully', 1), ('frolicking', 1), ('squirrels', 1), ('adorable', 1), ('spotted', 1), ('meandered,', 1), ('treasures.', 1), ('hidden', 1), ('uncover', 1), ('eager', 1), ('pathways,', 1), ('winding', 1), ('along', 1), ('stroll', 1), ('leisurely', 1), ('embarked', 1), ('as', 1), ('Excitement', 1), ('grass.', 1), ('green', 1), ('vibrant', 1), ('trees', 1), ('majestic', 1), ('tall,', 1), ('captivated', 1), ('immediately', 1), ('lush', 1), ('nearby.', 1), ('picturesque', 1), ('explore', 1), ('decided', 1), ('weekend,', 1), ('Last', 1)]\n"
          ]
        }
      ]
    },
    {
      "cell_type": "code",
      "source": [
        "#7. Extract Numbers from Text File\n",
        "\n",
        "#getting only numbers(single)\n",
        "\n",
        "\n",
        "a = \"\"\"\"In the year 2023, technology has made significant strides, and AI-powered advancements are now part of our everyday lives. People are constantly connected through various devices and platforms. The global population has reached 8.5 billion, and around 60% of the world's population has access to the internet. Data analytics plays a crucial role in decision-making, where huge datasets are processed in a matter of seconds. The average smartphone now has a processing power comparable to that of a high-end computer a decade ago. Companies are investing heavily in innovation, with billions of dollars poured into research and development. As we embrace this digital age, the opportunities seem boundless, and the reliance on technology is set to grow even further.\"\"\"\n",
        "\n",
        "numbers_list=[]\n",
        "for i in a:\n",
        "  try:\n",
        "    j=float(i)\n",
        "\n",
        "    if type(j)== float:\n",
        "      numbers_list.append(i)\n",
        "    else:\n",
        "        pass\n",
        "  except:\n",
        "    pass\n",
        "\n",
        "numbers_list\n",
        "\n",
        "\n"
      ],
      "metadata": {
        "colab": {
          "base_uri": "https://localhost:8080/"
        },
        "id": "hY3X3qDCPLuS",
        "outputId": "d3649232-894a-4f6c-b31f-f08989d8b217"
      },
      "execution_count": 179,
      "outputs": [
        {
          "output_type": "execute_result",
          "data": {
            "text/plain": [
              "['2', '0', '2', '3', '8', '5', '6', '0']"
            ]
          },
          "metadata": {},
          "execution_count": 179
        }
      ]
    },
    {
      "cell_type": "code",
      "source": [
        "a = \"\"\"\"In the year 2023, technology has made significant strides, and AI-powered advancements are now part of our everyday lives. People are constantly connected through various devices and platforms. The global population has reached 8.5 billion, and around 60% of the world's population has access to the internet. Data analytics plays a crucial role in decision-making, where huge datasets are processed in a matter of seconds. The average smartphone now has a processing power comparable to that of a high-end computer a decade ago. Companies are investing heavily in innovation, with billions of dollars poured into research and development. As we embrace this digital age, the opportunities seem boundless, and the reliance on technology is set to grow even further.\"\"\"\n",
        "\n",
        "b= a.split(\" \")\n"
      ],
      "metadata": {
        "id": "a5pTw3NcV5-0"
      },
      "execution_count": 180,
      "outputs": []
    },
    {
      "cell_type": "code",
      "source": [],
      "metadata": {
        "id": "AdHhX1sTXC73"
      },
      "execution_count": 180,
      "outputs": []
    },
    {
      "cell_type": "code",
      "source": [
        "# We can get number in a text like this to extract only number from this I write the below code\n",
        "\n",
        "text = \"In ,2020 neary 50% people of china got affected in china which is rank #1 in the world from 195 countries\"\n",
        "# here we have to exctract only no like 2023,50,1\n",
        "# but present a = [',2023','50%','#1','195']\n",
        "\n",
        "a= text.split(\" \")\n",
        "m=[]\n",
        "print(a)\n",
        "for  i in a:\n",
        "  if l != []:\n",
        "    m.append(l)\n",
        "\n",
        "\n",
        "  l=[]\n",
        "  for j in i:\n",
        "    try:\n",
        "      k=int(j)\n",
        "\n",
        "      if type(k)== int:\n",
        "\n",
        "        l.append(str(k))\n",
        "        print(l)\n",
        "    except:\n",
        "      pass\n",
        "print(l)\n",
        "print('Extracted number list are ;',m)\n",
        "\n",
        "\n"
      ],
      "metadata": {
        "colab": {
          "base_uri": "https://localhost:8080/"
        },
        "id": "w3At5S0vXVrK",
        "outputId": "ea4f0754-d16e-429a-e974-d72e65bf3fde"
      },
      "execution_count": 181,
      "outputs": [
        {
          "output_type": "stream",
          "name": "stdout",
          "text": [
            "['In', ',2020', 'neary', '50%', 'people', 'of', 'china', 'got', 'affected', 'in', 'china', 'which', 'is', 'rank', '#1', 'in', 'the', 'world', 'from', '195', 'countries']\n",
            "['2']\n",
            "['2', '0']\n",
            "['2', '0', '2']\n",
            "['2', '0', '2', '0']\n",
            "['5']\n",
            "['5', '0']\n",
            "['1']\n",
            "['1']\n",
            "['1', '9']\n",
            "['1', '9', '5']\n",
            "[]\n",
            "Extracted number list are ; [['2', '0', '2', '0'], ['5', '0'], ['1'], ['1', '9', '5']]\n"
          ]
        }
      ]
    },
    {
      "cell_type": "code",
      "source": [
        "number_list=[]\n",
        "for i in m:\n",
        "  for j in range(len(i)):\n",
        "    number_list.append(int(\",\".join(m[j]).replace(\",\",\"\")))\n",
        "print(number_list)\n",
        "final_output= set(number_list)\n",
        "print('The numbes contain in the text are :',final_output)\n",
        "\n"
      ],
      "metadata": {
        "colab": {
          "base_uri": "https://localhost:8080/"
        },
        "id": "dMuhyti5Ytvg",
        "outputId": "bfa69052-da76-4f96-c4be-2551c548bf57"
      },
      "execution_count": 182,
      "outputs": [
        {
          "output_type": "stream",
          "name": "stdout",
          "text": [
            "[2020, 50, 1, 195, 2020, 50, 2020, 2020, 50, 1]\n",
            "The numbes contain in the text are : {1, 50, 195, 2020}\n"
          ]
        }
      ]
    },
    {
      "cell_type": "code",
      "source": [
        "# converting [3,4] to 34\n",
        "\",\".join(['3','4']).replace(\",\",\"\")\n"
      ],
      "metadata": {
        "colab": {
          "base_uri": "https://localhost:8080/",
          "height": 35
        },
        "id": "PGLOG6W7b3qW",
        "outputId": "7a197538-6ce2-47ea-cd41-13c8b652ee63"
      },
      "execution_count": 183,
      "outputs": [
        {
          "output_type": "execute_result",
          "data": {
            "text/plain": [
              "'34'"
            ],
            "application/vnd.google.colaboratory.intrinsic+json": {
              "type": "string"
            }
          },
          "metadata": {},
          "execution_count": 183
        }
      ]
    },
    {
      "cell_type": "code",
      "source": [],
      "metadata": {
        "id": "Qa1fBXPQaX9l"
      },
      "execution_count": 183,
      "outputs": []
    }
  ]
}